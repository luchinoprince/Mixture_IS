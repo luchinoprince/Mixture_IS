{
 "cells": [
  {
   "cell_type": "markdown",
   "metadata": {},
   "source": [
    "In this notebook we will generate the three different estimators analyzed in the paper on the benchmark _Laekaemia_ dataset. To get the samples from the desired distributions, since the model is non-conjugate, we will leverage **PyStan**. To see how to create the models in **PyStan** refer to the code in the module _logistic_model.py_. To run the notebook one has to have installed the **PyStan** library, the **psis** directory and the _Laekamia_ dataset in a proper location."
   ]
  },
  {
   "cell_type": "code",
   "execution_count": 1,
   "metadata": {},
   "outputs": [],
   "source": [
    "#import logistic_model as lm\n",
    "from models import Logistic_Model as lm\n",
    "import models\n",
    "from scipy.special import logsumexp\n",
    "import pystan\n",
    "import pandas as pd\n",
    "import numpy as np\n",
    "import matplotlib.pyplot as plt\n",
    "import sys\n",
    "sys.path.insert(1,\"./../PSIS/py/\")\n",
    "import psis\n",
    "from scipy.stats import laplace,bernoulli\n",
    "import time"
   ]
  },
  {
   "cell_type": "markdown",
   "metadata": {},
   "source": [
    "## Let us load the data, create the model, and then create the dictionary which we are going to pass to **PyStan**"
   ]
  },
  {
   "cell_type": "code",
   "execution_count": 2,
   "metadata": {},
   "outputs": [],
   "source": [
    "data = pd.read_csv(\"laekaemia.csv\")\n",
    "y = data[\"y\"].values.astype(int)\n",
    "X = data.loc[::,\"ones\":\"ag\"].values\n",
    "\n",
    "n=X.shape[0]\n",
    "k=X.shape[1]\n",
    "scaled_var = 100/k\n",
    "data={'n':n, 'k':k, 'y':y.reshape(30), 'X':X, 'scaled_var':scaled_var}\n",
    "\n",
    "µ=0\n",
    "beta0=scaled_var\n",
    "#model=lm.Model(µ,beta0) \n",
    "model = lm(y, X, μ, beta0)"
   ]
  },
  {
   "cell_type": "markdown",
   "metadata": {},
   "source": [
    "## Samples from the full posterior"
   ]
  },
  {
   "cell_type": "code",
   "execution_count": 3,
   "metadata": {},
   "outputs": [
    {
     "name": "stderr",
     "output_type": "stream",
     "text": [
      "INFO:pystan:COMPILING THE C++ CODE FOR MODEL anon_model_2a9736f2fe7144eb5c87540c4e8d9ad4 NOW.\n"
     ]
    }
   ],
   "source": [
    "iterations = 4000  ##number of iterations for each chain\n",
    "n_chains = 1;  warmup = 500;\n",
    "#model_post = lm.posterior()\n",
    "model_post = model.str_post()\n",
    "sm_posterior = pystan.StanModel(model_code=model_post)\n",
    "fit_posterior = sm_posterior.sampling(data=data, iter=iterations, chains=n_chains, warmup=warmup, seed=101)"
   ]
  },
  {
   "cell_type": "markdown",
   "metadata": {},
   "source": [
    "## Samples from the mixture"
   ]
  },
  {
   "cell_type": "code",
   "execution_count": 4,
   "metadata": {},
   "outputs": [
    {
     "name": "stderr",
     "output_type": "stream",
     "text": [
      "INFO:pystan:COMPILING THE C++ CODE FOR MODEL anon_model_e83a65bd9b0c64f48e30a3ce10ccd6dc NOW.\n"
     ]
    }
   ],
   "source": [
    "iterations = 4000  ##number of iterations for each chain\n",
    "n_chains = 1;  warmup = 500;\n",
    "n_samples = n_chains*(iterations-warmup)\n",
    "#model_mix = lm.mixture()\n",
    "model_mix = model.str_mix()\n",
    "sm_mix = pystan.StanModel(model_code=model_mix)\n",
    "fit_mix = sm_mix.sampling(data=data, iter=iterations, chains=n_chains, warmup=warmup, seed=101)"
   ]
  },
  {
   "cell_type": "markdown",
   "metadata": {},
   "source": [
    "## Estimators"
   ]
  },
  {
   "cell_type": "code",
   "execution_count": 5,
   "metadata": {},
   "outputs": [],
   "source": [
    "### Posterior estimator\n",
    "## Here we compute the estimator explicitly in its' different components\n",
    "w_posterior=np.zeros((X.shape[0], n_samples))\n",
    "betas_posterior=fit_posterior['beta'].transpose()\n",
    "lppd_posterior = np.zeros((n_samples,30))\n",
    "\n",
    "for i in range(n_samples):\n",
    "    w_posterior[::, i]=(1/np.exp(np.dot(X,betas_posterior[::,i:i+1])*y.reshape((n,1)))+\n",
    "    np.exp(np.dot(X,betas_posterior[::,i:i+1])-(np.dot(X,betas_posterior[::,i:i+1])*y.reshape((n,1))))).reshape(n)\n",
    "    \n",
    "denominator_post = w_posterior.cumsum(axis=1)\n",
    "#aux_post=np.array([model.model_i(betas_posterior,y,X,j) for j in range(n)])\n",
    "aux_post=np.array([model.model_i(betas_posterior, j) for j in range(n)])\n",
    "for i in range(n):\n",
    "    numerator_post = (aux_post[i, ::]*w_posterior[i,::]).cumsum()\n",
    "    lppd_posterior[::, i] = np.log(numerator_post/denominator_post[i,::])"
   ]
  },
  {
   "cell_type": "code",
   "execution_count": 6,
   "metadata": {},
   "outputs": [
    {
     "name": "stdout",
     "output_type": "stream",
     "text": [
      "0.01669597625732422\n"
     ]
    }
   ],
   "source": [
    "## Mixture estimator\n",
    "## The different auxiliary variables below are to mantain the computations efficient\n",
    "lppd_mixture = np.zeros((n_samples, n))\n",
    "betas_mixture=fit_mix['beta'].transpose()\n",
    "\n",
    "start=time.time()\n",
    "\n",
    "#aux_mix=np.array([model.model_i(betas_mixture,y,X,j)**(-1) for j in range(n)]).transpose()\n",
    "aux_mix=np.array([model.model_i(betas_mixture, j)**(-1) for j in range(n)]).transpose()\n",
    "common_mix=aux_mix.sum(axis=1)\n",
    "numerator_ew_cum=((common_mix)**(-1)).cumsum()\n",
    "for i in range(n):\n",
    "    denominator_mix = (aux_mix[::,i]*(common_mix)**(-1)).cumsum()\n",
    "    lppd_mixture[::, i] = np.log(numerator_ew_cum/denominator_mix)\n",
    "\n",
    "end=time.time()\n",
    "print(end-start)"
   ]
  },
  {
   "cell_type": "code",
   "execution_count": 7,
   "metadata": {},
   "outputs": [
    {
     "data": {
      "text/plain": [
       "-20.554845500805342"
      ]
     },
     "execution_count": 7,
     "metadata": {},
     "output_type": "execute_result"
    }
   ],
   "source": [
    "lppd_posterior[-1, ::].sum()"
   ]
  },
  {
   "cell_type": "code",
   "execution_count": 8,
   "metadata": {},
   "outputs": [],
   "source": [
    "## PSIS estiamtor\n",
    "#l_lik_post = -1 * (np.array([-1*model.lmodel_i(betas_posterior,y,X,j) for j in range(n)])).transpose()\n",
    "l_lik_post = -1 * (np.array([-1*model.lmodel_i(betas_posterior, j) for j in range(n)])).transpose()\n",
    "loo, lppd_psis, k_psis=psis.psisloo(l_lik_post)"
   ]
  },
  {
   "cell_type": "markdown",
   "metadata": {},
   "source": [
    "## Traceplots"
   ]
  },
  {
   "cell_type": "code",
   "execution_count": 9,
   "metadata": {},
   "outputs": [
    {
     "data": {
      "image/png": "[encoded data removed]",
      "text/plain": [
       "<Figure size 864x648 with 1 Axes>"
      ]
     },
     "metadata": {
      "needs_background": "light"
     },
     "output_type": "display_data"
    }
   ],
   "source": [
    "## We do not do the traceplots for the PSIS estimator as the module jut gives back the final value\n",
    "mixture_estimator = lppd_mixture.sum(axis=1)\n",
    "posterior_estimator = lppd_posterior.sum(axis=1)\n",
    "fig, ax = plt.subplots(figsize=(12,9))\n",
    "ax.plot(mixture_estimator[5:], label=\"Mixture full estimator\")\n",
    "ax.plot(posterior_estimator[5:], label=\"Posterior full estimator\")\n",
    "plt.legend(fontsize=18)\n",
    "ax.yaxis.set_tick_params(labelsize=20, rotation=0)\n",
    "ax.xaxis.set_tick_params(labelsize=20, rotation=0)\n",
    "ax.set_xlabel(\"Iterations\", size=20)\n",
    "plt.grid(linestyle='-', linewidth=1)"
   ]
  },
  {
   "cell_type": "markdown",
   "metadata": {},
   "source": [
    "The above code was used because it allow to get the above traceplot. If one is just interested in the final an estimator, a much more efficient, and more importantly numerically stable, way would be the following. The code behind can be inspected at in the library __models.py__."
   ]
  },
  {
   "cell_type": "code",
   "execution_count": 10,
   "metadata": {},
   "outputs": [],
   "source": [
    "is_estimator = models.Is_estimators(model)\n",
    "lppd_mixture = is_estimator.mixture(betas_mixture)\n",
    "lppd_posterior = is_estimator.posterior(betas_posterior)\n",
    "lppd_psis = is_estimator.PSIS(betas_posterior)"
   ]
  },
  {
   "cell_type": "code",
   "execution_count": null,
   "metadata": {},
   "outputs": [],
   "source": []
  }
 ],
 "metadata": {
  "kernelspec": {
   "display_name": "Python 3",
   "language": "python",
   "name": "python3"
  },
  "language_info": {
   "codemirror_mode": {
    "name": "ipython",
    "version": 3
   },
   "file_extension": ".py",
   "mimetype": "text/x-python",
   "name": "python",
   "nbconvert_exporter": "python",
   "pygments_lexer": "ipython3",
   "version": "3.8.5"
  }
 },
 "nbformat": 4,
 "nbformat_minor": 4
}
