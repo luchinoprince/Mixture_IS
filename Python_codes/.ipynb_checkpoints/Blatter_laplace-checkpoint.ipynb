{
 "cells": [
  {
   "cell_type": "code",
   "execution_count": 1,
   "metadata": {},
   "outputs": [],
   "source": [
    "import pandas as pd\n",
    "import numpy as np\n",
    "import sys; sys.path.insert(1, \"../../PSIS_local/py/\"); \n",
    "import sys; sys.path.insert(1, \"../../PSIS/py/\"); \n",
    "import psis\n",
    "sys.path.insert(1, \"./../\")\n",
    "import matplotlib.pyplot as plt\n",
    "from scipy.special import logsumexp\n",
    "from scipy.stats import multivariate_normal\n",
    "import time\n",
    "import gm\n",
    "from gm import predictive_i, probs_i, probs\n",
    "import pystan\n",
    "import stan_utility"
   ]
  },
  {
   "cell_type": "code",
   "execution_count": 2,
   "metadata": {},
   "outputs": [
    {
     "name": "stderr",
     "output_type": "stream",
     "text": [
      "C:\\Users\\lucas\\anaconda3\\envs\\stan_env2\\lib\\site-packages\\ipykernel_launcher.py:1: ParserWarning: Falling back to the 'python' engine because the 'c' engine does not support skipfooter; you can avoid this warning by specifying engine='python'.\n",
      "  \"\"\"Entry point for launching an IPython kernel.\n"
     ]
    }
   ],
   "source": [
    "data_rna = pd.read_csv(\"covariates2.txt\", sep='\\t', index_col=0, skiprows=82, skipfooter=1)\n",
    "data_clinical = pd.read_csv(\"response.txt\", sep='\\t', index_col=0)\n",
    "y = data_clinical['Survival Months'].values\n",
    "gender = data_clinical['Gender'].values\n",
    "gender[gender == 'male'] = int(1)\n",
    "gender[gender == 'female'] = int(0)\n",
    "gender = gender.reshape((len(gender), 1))\n",
    "\n",
    "age = data_clinical['Age at RC'].values.reshape((len(gender), 1))\n",
    "\n",
    "meta = np.array(data_clinical['Metastasis']).reshape((len(gender), 1))\n",
    "nomo = data_clinical['Nomogram Score'].values.reshape((len(gender), 1))"
   ]
  },
  {
   "cell_type": "code",
   "execution_count": 3,
   "metadata": {},
   "outputs": [],
   "source": [
    "X_data = np.concatenate([np.ones((len(gender), 1)), meta, gender, nomo, age, data_rna.values.transpose()], axis=1)\n",
    "##Normalize all non-cathegorical data\n",
    "for j in range(3, X_data.shape[1]):\n",
    "    X_data[::, j] = (X_data[::, j] - np.mean(X_data[::, j]))/np.std(X_data[::, j])\n",
    "\n",
    "    \n",
    "## WE also normalize the response\n",
    "## Not sure we standardize the response\n",
    "y = (y - np.mean(y))/np.std(y)\n",
    "y = y - np.mean(y)\n"
   ]
  },
  {
   "cell_type": "code",
   "execution_count": 4,
   "metadata": {},
   "outputs": [],
   "source": [
    "model_post_lapl = \"\"\"\n",
    "data {\n",
    "  int <lower=0> N;                // number  of  observations\n",
    "  int <lower=0> d;                // number  of  predictors\n",
    "  vector[N] y;      // outputs\n",
    "  matrix[N,d] X;                  // inputs\n",
    "  real <lower=0>  scale_icept;    // prior  scale for  the  intercept\n",
    "  real <lower=0> scale_params;    // prior scale for the regression coefficents\n",
    "  matrix[N,N] model_var;          // Models variance\n",
    " }\n",
    "parameters {\n",
    "  real  zeta0;\n",
    "  vector[d] zeta;\n",
    " \n",
    "}\n",
    "\n",
    "transformed  parameters {\n",
    "  vector[N] f;                          // latent  function  values\n",
    "  vector[d] beta;\n",
    "  real beta0;\n",
    "  beta0 = zeta0 * scale_icept;\n",
    "  beta = zeta * scale_params;\n",
    "  f = beta0 + X*beta;\n",
    "}\n",
    "\n",
    "model {\n",
    "  zeta0 ~ double_exponential(0.0,  1.0);\n",
    "  zeta ~ double_exponential(0.0,  1.0);\n",
    "  y ~ multi_normal(f, model_var);\n",
    "}\n",
    "generated quantities {\n",
    "  vector[N] log_lik;\n",
    "  for (nn in 1:N)\n",
    "    log_lik[nn] = normal_lpdf(y[nn] | f[nn], model_var[1,1]);\n",
    "}\n",
    "\"\"\"\n",
    "\n",
    "model_mixture_lapl = \"\"\"\n",
    "data {\n",
    "  int <lower=0> N;                // number  of  observations\n",
    "  int <lower=0> d;                // number  of  predictors\n",
    "  vector[N] y;      // outputs\n",
    "  matrix[N,d] X;                  // inputs\n",
    "  real <lower=0>  scale_icept;    // prior  std for  the  intercept\n",
    "  real <lower=0> scale_params;    // prior std for the regression coefficents\n",
    "  matrix[N,N] model_var;          // Models variance\n",
    " }\n",
    "parameters {\n",
    "  real  zeta0;\n",
    "  vector[d] zeta;\n",
    "  \n",
    "}\n",
    "\n",
    "transformed  parameters {\n",
    "  vector[N] f;                          // latent  function  values\n",
    "  vector[d] beta;\n",
    "  real beta0;\n",
    "  beta0 = zeta0 * scale_icept;\n",
    "  beta = zeta * scale_params;\n",
    "  f = beta0 + X*beta;\n",
    "}\n",
    "\n",
    "\n",
    "model {\n",
    "  vector[N] contributions;\n",
    "  zeta0  ~ double_exponential(0.0,  1.0);\n",
    "  zeta ~ double_exponential(0.0, 1.0);\n",
    "  for (index in 1:N)\n",
    "    {\n",
    "        contributions[index]= -1*(normal_lpdf(y[index] | f[index], model_var[1,1]));\n",
    "    }\n",
    "\n",
    "  target += multi_normal_lpdf(y| f,  model_var);\n",
    "  target += log_sum_exp(contributions);\n",
    "}\n",
    "generated quantities {\n",
    "  vector[N] log_lik;\n",
    "  for (nn in 1:N)\n",
    "    log_lik[nn] = normal_lpdf(y[nn] | f[nn], model_var[1,1]);\n",
    "}\n",
    "\"\"\""
   ]
  },
  {
   "cell_type": "code",
   "execution_count": 16,
   "metadata": {},
   "outputs": [],
   "source": [
    "X_data_red= X_data[::, 1:200].astype('float')    ###We take out also the the intercept\n",
    "n,d = X_data_red.shape\n",
    "scale_icept = 10.0\n",
    "scale_params = np.sqrt(50/d)\n",
    "model_var = 1.0\n",
    "\n",
    "\n",
    "standata_lapl = {'N' : n, 'd' : d, 'y' : y, 'X' : np.matrix(X_data_red),'scale_icept' : scale_icept,\n",
    "           'scale_params' : scale_params, 'model_var':np.matrix(model_var*np.eye(n))}"
   ]
  },
  {
   "cell_type": "code",
   "execution_count": 6,
   "metadata": {},
   "outputs": [
    {
     "name": "stderr",
     "output_type": "stream",
     "text": [
      "INFO:pystan:COMPILING THE C++ CODE FOR MODEL anon_model_6aa680aae0143994ea362cde85134ad9 NOW.\n"
     ]
    }
   ],
   "source": [
    "#sm_posterior_lapl = pystan.StanModel(model_code=model_post_lapl)"
   ]
  },
  {
   "cell_type": "code",
   "execution_count": 17,
   "metadata": {},
   "outputs": [],
   "source": [
    "fit_post = sm_posterior_lapl.sampling(data=standata_lapl, n_jobs=4)#, iter=6000, chains=1) #, control=control) "
   ]
  },
  {
   "cell_type": "code",
   "execution_count": 18,
   "metadata": {},
   "outputs": [
    {
     "name": "stdout",
     "output_type": "stream",
     "text": [
      "n_eff / iter looks reasonable for all parameters\n",
      "Rhat looks reasonable for all parameters\n",
      "0.0 of 4000 iterations ended with a divergence (0.0%)\n",
      "0 of 4000 iterations saturated the maximum tree depth of 10 (0.0%)\n",
      "E-BFMI indicated no pathological behavior\n"
     ]
    }
   ],
   "source": [
    "stan_utility.check_all_diagnostics(fit_post)"
   ]
  },
  {
   "cell_type": "code",
   "execution_count": 19,
   "metadata": {},
   "outputs": [
    {
     "data": {
      "text/plain": [
       "array([-1.95729453, -2.1444459 , -1.56732691, -2.84677482, -1.75078706,\n",
       "       -1.77133434, -1.90079741, -1.9545965 , -1.90813999, -2.28935878,\n",
       "       -1.79234805, -2.07136444, -2.13601697, -2.10482375, -1.8380304 ,\n",
       "       -1.87933183, -1.88170801, -1.79237187, -1.6100504 , -1.89904817,\n",
       "       -2.1356281 , -1.63501277, -1.73135266, -2.12228208, -2.10689913,\n",
       "       -1.72967224, -1.65737141, -1.85817565, -1.91556895, -1.85907589,\n",
       "       -2.10168867, -1.88939237, -2.01060322, -1.71083101, -1.91323821,\n",
       "       -1.66299862, -2.01970333, -2.27947911, -1.92728115, -1.96045874,\n",
       "       -2.02146905, -2.1598708 , -1.97099097, -1.6621136 , -1.86043234,\n",
       "       -1.68534377, -1.94658355, -2.02141658, -1.89632661, -2.44873989,\n",
       "       -2.15914159, -2.13778053, -1.86052548, -1.73181222, -1.85740599,\n",
       "       -1.89634875, -1.73729526, -1.9427087 , -2.37337938, -2.3355344 ,\n",
       "       -2.07468319, -2.1125969 , -2.15550389, -1.88857617, -1.97282519,\n",
       "       -2.12912742, -2.0337215 , -1.92915352, -1.58452914, -1.8918059 ,\n",
       "       -1.94774111, -2.16484758, -2.05903841, -1.87270243, -2.0745136 ,\n",
       "       -2.40235817, -2.32378222, -1.96955388, -1.79807402, -2.12972517,\n",
       "       -2.02273274, -1.79100471, -2.22707056, -1.77187293, -2.19354438,\n",
       "       -2.04333058, -1.81785764, -1.99478621, -2.35875782, -2.2760849 ,\n",
       "       -2.24524106, -2.10540552, -1.73020805])"
      ]
     },
     "execution_count": 19,
     "metadata": {},
     "output_type": "execute_result"
    }
   ],
   "source": [
    "l_lik = fit_post['log_lik']\n",
    "l_ws=-1*l_lik.transpose()\n",
    "lppd_post = logsumexp(l_lik.transpose()+l_ws,axis=1)-logsumexp(l_ws,axis=1)\n",
    "lppd_post"
   ]
  },
  {
   "cell_type": "code",
   "execution_count": 20,
   "metadata": {},
   "outputs": [],
   "source": [
    "#sm_mixture_lapl = pystan.StanModel(model_code=model_mixture_lapl)"
   ]
  },
  {
   "cell_type": "code",
   "execution_count": 21,
   "metadata": {},
   "outputs": [],
   "source": [
    "fit_mix_lapl = sm_mixture_lapl.sampling(data=standata_lapl, n_jobs=4)#, iter=6000, chains=1) #control=control) "
   ]
  },
  {
   "cell_type": "code",
   "execution_count": 22,
   "metadata": {},
   "outputs": [
    {
     "name": "stdout",
     "output_type": "stream",
     "text": [
      "n_eff / iter looks reasonable for all parameters\n",
      "Rhat looks reasonable for all parameters\n",
      "0.0 of 4000 iterations ended with a divergence (0.0%)\n",
      "0 of 4000 iterations saturated the maximum tree depth of 10 (0.0%)\n",
      "E-BFMI indicated no pathological behavior\n"
     ]
    }
   ],
   "source": [
    "stan_utility.check_all_diagnostics(fit_post)"
   ]
  },
  {
   "cell_type": "code",
   "execution_count": 23,
   "metadata": {},
   "outputs": [
    {
     "data": {
      "text/plain": [
       "array([-2.91879912, -3.27127517, -1.99529609, -2.5288737 , -1.93336159,\n",
       "       -1.98885212, -2.37719614, -2.44587753, -1.99230354, -2.58222292,\n",
       "       -2.21492833, -2.2049339 , -1.95737287, -3.55280173, -1.81300504,\n",
       "       -2.28112093, -2.56931681, -2.43260547, -1.75970191, -2.08264937,\n",
       "       -2.21145532, -1.78737074, -1.82664348, -2.54895984, -2.57407625,\n",
       "       -1.69245703, -1.88256013, -2.09845658, -2.15572332, -2.31613623,\n",
       "       -3.15325234, -2.38351953, -3.07077221, -1.85072248, -1.75584125,\n",
       "       -1.87913031, -1.97620048, -1.96565453, -1.9798585 , -2.38774277,\n",
       "       -2.44353848, -2.23836144, -2.59304196, -1.7749787 , -2.49033128,\n",
       "       -1.93347689, -3.32842344, -2.8475597 , -2.84069856, -2.43844075,\n",
       "       -2.45594616, -2.47819026, -1.90189444, -2.09649758, -2.1907864 ,\n",
       "       -2.56147925, -1.75531275, -2.42626869, -2.30694801, -3.18404668,\n",
       "       -2.51488733, -2.01998212, -2.59159526, -2.34085965, -2.27160723,\n",
       "       -2.39733011, -2.39671323, -2.23493916, -1.78521249, -2.12506698,\n",
       "       -2.54505118, -2.98887032, -2.98600063, -2.54796475, -2.83112295,\n",
       "       -3.21375672, -2.43447404, -2.74688007, -2.70875688, -3.04227932,\n",
       "       -2.01834726, -2.00673747, -2.67176289, -1.71188034, -3.04358756,\n",
       "       -2.08228429, -2.37558991, -2.6906124 , -2.73352566, -3.32475831,\n",
       "       -3.22792229, -2.62536692, -1.87566603])"
      ]
     },
     "execution_count": 23,
     "metadata": {},
     "output_type": "execute_result"
    }
   ],
   "source": [
    "l_lik=fit_mix_lapl['log_lik']\n",
    "laux_mix=-l_lik\n",
    "lcommon_mix = logsumexp(laux_mix,axis=1)\n",
    "## Log-weights for the mixture\n",
    "l_ws=laux_mix.transpose() - lcommon_mix.reshape((1,len(lcommon_mix)))\n",
    "##Take care of problematic weights\n",
    "\n",
    "## Mixture estimates\n",
    "lppd_mix= logsumexp(l_lik.transpose()+l_ws, axis=1)-logsumexp(l_ws, axis=1) \n",
    "lppd_mix"
   ]
  },
  {
   "cell_type": "code",
   "execution_count": 24,
   "metadata": {},
   "outputs": [
    {
     "data": {
      "text/plain": [
       "(array([ 2.,  1.,  7.,  9.,  8., 18., 18., 17.,  9.,  4.]),\n",
       " array([-1.44797798, -1.27139007, -1.09480216, -0.91821425, -0.74162634,\n",
       "        -0.56503843, -0.38845052, -0.21186261, -0.0352747 ,  0.14131321,\n",
       "         0.31790112]),\n",
       " <BarContainer object of 10 artists>)"
      ]
     },
     "execution_count": 24,
     "metadata": {},
     "output_type": "execute_result"
    },
    {
     "data": {
      "image/png": "[encoded data removed]",
      "text/plain": [
       "<Figure size 432x288 with 1 Axes>"
      ]
     },
     "metadata": {
      "needs_background": "light"
     },
     "output_type": "display_data"
    }
   ],
   "source": [
    "plt.hist(lppd_mix-lppd_post)"
   ]
  },
  {
   "cell_type": "code",
   "execution_count": 25,
   "metadata": {},
   "outputs": [],
   "source": [
    "index = np.argmax(np.abs(lppd_post-lppd_mix))\n",
    "index = 1\n",
    "y_loo=np.concatenate([y[0:index], y[index+1:]]).copy()\n",
    "X_loo=np.concatenate([X_data_red[0:index], X_data_red[index+1:]]).copy()\n",
    "n=X_loo.shape[0]\n",
    "d=X_loo.shape[1]\n",
    "\n",
    "\n",
    "standata_lapl = {'N' : n, 'd' : d, 'y' : y_loo, 'X' : np.matrix(X_loo),'scale_icept' : scale_icept,\n",
    "           'scale_params' : scale_params, 'model_var':np.matrix(model_var*np.eye(n))}"
   ]
  },
  {
   "cell_type": "code",
   "execution_count": 28,
   "metadata": {},
   "outputs": [],
   "source": [
    "control = {'adapt_delta':0.999, 'max_treedepth':15}\n",
    "fit_post_loo = sm_posterior_lapl.sampling(data=standata_lapl, control=control, n_jobs=4) "
   ]
  },
  {
   "cell_type": "code",
   "execution_count": 29,
   "metadata": {},
   "outputs": [
    {
     "name": "stdout",
     "output_type": "stream",
     "text": [
      "-3.322211812259679\n"
     ]
    }
   ],
   "source": [
    "beta_loo = fit_post_loo['beta'].transpose()   ##covariates\n",
    "beta0_loo = fit_post_loo['beta0'].transpose()  ##icept\n",
    "sigmas = model_var\n",
    "lik = np.exp(-1*(1/(2*sigmas)*(y[index:index+1] -(beta0_loo + np.dot(X_data_red[index:index+1], beta_loo)[0,::]))**2 + \\\n",
    "           0.5*np.log(2*np.pi*sigmas)))\n",
    "print(np.log(np.mean(lik)))"
   ]
  },
  {
   "cell_type": "code",
   "execution_count": 30,
   "metadata": {},
   "outputs": [
    {
     "data": {
      "text/plain": [
       "-2.1444459028880747"
      ]
     },
     "execution_count": 30,
     "metadata": {},
     "output_type": "execute_result"
    }
   ],
   "source": [
    "lppd_post[index]"
   ]
  },
  {
   "cell_type": "code",
   "execution_count": 31,
   "metadata": {},
   "outputs": [
    {
     "data": {
      "text/plain": [
       "-3.2712751679779153"
      ]
     },
     "execution_count": 31,
     "metadata": {},
     "output_type": "execute_result"
    }
   ],
   "source": [
    "lppd_mix[index]"
   ]
  },
  {
   "cell_type": "code",
   "execution_count": null,
   "metadata": {},
   "outputs": [],
   "source": []
  }
 ],
 "metadata": {
  "kernelspec": {
   "display_name": "Python 3",
   "language": "python",
   "name": "python3"
  },
  "language_info": {
   "codemirror_mode": {
    "name": "ipython",
    "version": 3
   },
   "file_extension": ".py",
   "mimetype": "text/x-python",
   "name": "python",
   "nbconvert_exporter": "python",
   "pygments_lexer": "ipython3",
   "version": "3.8.5"
  }
 },
 "nbformat": 4,
 "nbformat_minor": 5
}
