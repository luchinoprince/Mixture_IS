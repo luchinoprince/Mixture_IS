{
 "cells": [
  {
   "cell_type": "markdown",
   "metadata": {},
   "source": [
    "In this code we will do some testing regarding the new integrated python module."
   ]
  },
  {
   "cell_type": "code",
   "execution_count": 1,
   "metadata": {},
   "outputs": [],
   "source": [
    "import models\n",
    "import numpy as np\n",
    "import pandas as pd\n",
    "from scipy.stats import multivariate_normal"
   ]
  },
  {
   "cell_type": "code",
   "execution_count": 2,
   "metadata": {},
   "outputs": [
    {
     "data": {
      "text/plain": [
       "'3.8.5 (default, Sep  3 2020, 21:29:08) [MSC v.1916 64 bit (AMD64)]'"
      ]
     },
     "execution_count": 2,
     "metadata": {},
     "output_type": "execute_result"
    }
   ],
   "source": [
    "import sys\n",
    "sys.version\n",
    "## it's an old version, need to update"
   ]
  },
  {
   "cell_type": "code",
   "execution_count": 3,
   "metadata": {},
   "outputs": [],
   "source": [
    "n = 100; p = 200;\n",
    "c =10; var_model=1;\n",
    "\n",
    "sigma_0= c/p * np.identity(p+1)\n",
    "theta_0=np.zeros((p+1,1))\n",
    "#\n",
    "x1=np.ones((n,1))\n",
    "x2=np.random.randn(n,p)\n",
    "X=np.concatenate([x1,x2],axis=1)\n",
    "theta=multivariate_normal(mean=theta_0.reshape(p+1),cov=sigma_0).rvs()\n",
    "y=multivariate_normal(mean=np.dot(X,theta), cov=var_model*np.identity(n)).rvs()"
   ]
  },
  {
   "cell_type": "code",
   "execution_count": 4,
   "metadata": {},
   "outputs": [
    {
     "data": {
      "text/plain": [
       "201"
      ]
     },
     "execution_count": 4,
     "metadata": {},
     "output_type": "execute_result"
    }
   ],
   "source": [
    "#model = models.Fake_Model(y, X)\n",
    "model = models.Gaussian_Model(y, X, theta_0, sigma_0, var_model)\n",
    "model.p"
   ]
  },
  {
   "cell_type": "code",
   "execution_count": 5,
   "metadata": {},
   "outputs": [
    {
     "name": "stdout",
     "output_type": "stream",
     "text": [
      "Bayesian regression model with known model variance.\n",
      "\t\t y[i]|X[i],θ ~ N(X[i]*θ, σ^2)\n",
      "        \n",
      "\t\t\t θ ~ N(θ_0, Σ_0),\n",
      " where θ_0 is model.theta_0, Σ_0 is model.sigma_0 and is model.var\n"
     ]
    }
   ],
   "source": [
    "print(str(model))"
   ]
  },
  {
   "cell_type": "code",
   "execution_count": 8,
   "metadata": {},
   "outputs": [],
   "source": [
    "#model.var = -0.2"
   ]
  },
  {
   "cell_type": "code",
   "execution_count": 6,
   "metadata": {},
   "outputs": [
    {
     "data": {
      "text/plain": [
       "False"
      ]
     },
     "execution_count": 6,
     "metadata": {},
     "output_type": "execute_result"
    }
   ],
   "source": [
    "(np.linalg.eigvals(sigma_0) <= 0).any()"
   ]
  },
  {
   "cell_type": "code",
   "execution_count": null,
   "metadata": {},
   "outputs": [],
   "source": [
    "model.lmodel(theta).shape"
   ]
  },
  {
   "cell_type": "code",
   "execution_count": 9,
   "metadata": {},
   "outputs": [
    {
     "data": {
      "text/plain": [
       "(201,)"
      ]
     },
     "execution_count": 9,
     "metadata": {},
     "output_type": "execute_result"
    }
   ],
   "source": [
    "theta.shape"
   ]
  },
  {
   "cell_type": "code",
   "execution_count": 5,
   "metadata": {},
   "outputs": [
    {
     "data": {
      "text/plain": [
       "array([[ -0.91957705, -14.81545258, -25.03485594, ..., -20.67855885,\n",
       "        -26.23086394, -13.99323079],\n",
       "       [-17.23746391,  -1.00104817,  -1.72255285, ...,  -1.104552  ,\n",
       "         -1.95270937,  -1.07774999],\n",
       "       [-16.13750069,  -0.9408502 ,  -1.9900958 , ...,  -1.24309878,\n",
       "         -2.25358065,  -0.98653315],\n",
       "       ...,\n",
       "       [-15.6561801 ,  -0.92630701,  -2.12268396, ...,  -1.31777722,\n",
       "         -2.40113075,  -0.9580648 ],\n",
       "       [-24.77921506,  -2.19951713,  -0.92157706, ...,  -1.09054153,\n",
       "         -0.94840791,  -2.46545535],\n",
       "       [-17.24244825,  -1.00140208,  -1.72144722, ...,  -1.10402084,\n",
       "         -1.95145532,  -1.07824204]])"
      ]
     },
     "execution_count": 5,
     "metadata": {},
     "output_type": "execute_result"
    }
   ],
   "source": [
    "-1/2*np.log(2*np.pi*model.var)-0.5/model.var*((y.reshape((model.n,1))-np.dot(X, theta))**2)"
   ]
  },
  {
   "cell_type": "code",
   "execution_count": 14,
   "metadata": {},
   "outputs": [
    {
     "data": {
      "text/plain": [
       "2"
      ]
     },
     "execution_count": 14,
     "metadata": {},
     "output_type": "execute_result"
    }
   ],
   "source": [
    "theta.reshape((201,1)).ndim"
   ]
  },
  {
   "cell_type": "code",
   "execution_count": 22,
   "metadata": {},
   "outputs": [
    {
     "data": {
      "text/plain": [
       "(100, 1)"
      ]
     },
     "execution_count": 22,
     "metadata": {},
     "output_type": "execute_result"
    }
   ],
   "source": [
    "(y.reshape((model.n,1))-np.dot(X, theta.reshape((201,1)))).shape"
   ]
  },
  {
   "cell_type": "code",
   "execution_count": 5,
   "metadata": {},
   "outputs": [],
   "source": [
    "model = models.Gaussian_Model(y, X, theta_0, sigma_0, var_model)"
   ]
  },
  {
   "cell_type": "code",
   "execution_count": 9,
   "metadata": {},
   "outputs": [],
   "source": [
    "pdf = model.lmodel(theta)"
   ]
  },
  {
   "cell_type": "code",
   "execution_count": 10,
   "metadata": {},
   "outputs": [
    {
     "data": {
      "text/plain": [
       "(100, 100)"
      ]
     },
     "execution_count": 10,
     "metadata": {},
     "output_type": "execute_result"
    }
   ],
   "source": [
    "pdf.shape\n",
    "##ERROR, CLEAN."
   ]
  },
  {
   "cell_type": "code",
   "execution_count": 4,
   "metadata": {},
   "outputs": [
    {
     "data": {
      "text/plain": [
       "201"
      ]
     },
     "execution_count": 4,
     "metadata": {},
     "output_type": "execute_result"
    }
   ],
   "source": [
    "model.p"
   ]
  },
  {
   "cell_type": "code",
   "execution_count": 5,
   "metadata": {},
   "outputs": [
    {
     "data": {
      "text/plain": [
       "0.06583173439571942"
      ]
     },
     "execution_count": 5,
     "metadata": {},
     "output_type": "execute_result"
    }
   ],
   "source": [
    "model.model_i(theta_0, 1)"
   ]
  },
  {
   "cell_type": "code",
   "execution_count": 6,
   "metadata": {
    "collapsed": true,
    "jupyter": {
     "outputs_hidden": true
    }
   },
   "outputs": [
    {
     "data": {
      "text/plain": [
       "array([[2.58105066e-08],\n",
       "       [6.58317344e-02],\n",
       "       [3.63085379e-01],\n",
       "       [9.62488451e-04],\n",
       "       [2.30711304e-01],\n",
       "       [7.00162187e-03],\n",
       "       [4.67087551e-04],\n",
       "       [9.09600621e-11],\n",
       "       [3.82310830e-01],\n",
       "       [4.74877900e-04],\n",
       "       [3.11311235e-03],\n",
       "       [3.29499370e-04],\n",
       "       [7.62184744e-12],\n",
       "       [3.87895736e-01],\n",
       "       [3.89450019e-01],\n",
       "       [2.29272179e-06],\n",
       "       [3.01932596e-09],\n",
       "       [3.19281338e-01],\n",
       "       [2.53418810e-01],\n",
       "       [6.75555098e-02],\n",
       "       [3.22388223e-01],\n",
       "       [1.15192088e-02],\n",
       "       [5.71058464e-02],\n",
       "       [1.25465772e-01],\n",
       "       [2.96148356e-01],\n",
       "       [4.24952518e-03],\n",
       "       [2.26669000e-02],\n",
       "       [3.22708715e-03],\n",
       "       [3.13296115e-01],\n",
       "       [2.21433533e-02],\n",
       "       [1.98099161e-04],\n",
       "       [1.54848006e-01],\n",
       "       [1.61000098e-01],\n",
       "       [4.61430663e-09],\n",
       "       [3.66576428e-03],\n",
       "       [1.93691838e-01],\n",
       "       [7.45201431e-04],\n",
       "       [9.63270949e-03],\n",
       "       [4.67863431e-03],\n",
       "       [3.90177464e-01],\n",
       "       [2.29683965e-01],\n",
       "       [1.04335768e-02],\n",
       "       [3.01756474e-03],\n",
       "       [3.08941434e-01],\n",
       "       [3.85973106e-01],\n",
       "       [3.81279122e-01],\n",
       "       [2.47905966e-01],\n",
       "       [3.72705957e-01],\n",
       "       [5.00346368e-05],\n",
       "       [3.67636564e-01],\n",
       "       [6.72789867e-08],\n",
       "       [3.58553786e-01],\n",
       "       [3.48218229e-02],\n",
       "       [1.08370290e-09],\n",
       "       [3.54988525e-01],\n",
       "       [8.50088339e-04],\n",
       "       [1.19409440e-14],\n",
       "       [2.38054693e-01],\n",
       "       [8.25929141e-06],\n",
       "       [9.79822259e-05],\n",
       "       [3.09850914e-01],\n",
       "       [3.44523488e-01],\n",
       "       [2.38368429e-01],\n",
       "       [3.98845235e-01],\n",
       "       [2.50704380e-10],\n",
       "       [1.77579683e-01],\n",
       "       [3.03412291e-09],\n",
       "       [9.35371389e-09],\n",
       "       [3.17403399e-06],\n",
       "       [2.19249393e-01],\n",
       "       [9.10405753e-10],\n",
       "       [5.05170664e-07],\n",
       "       [3.79807541e-01],\n",
       "       [9.16058907e-02],\n",
       "       [2.30711466e-02],\n",
       "       [1.04198204e-02],\n",
       "       [2.55266995e-05],\n",
       "       [6.89399820e-03],\n",
       "       [5.43793017e-02],\n",
       "       [1.07412247e-16],\n",
       "       [3.59895979e-01],\n",
       "       [3.79004387e-01],\n",
       "       [8.51099283e-03],\n",
       "       [6.53031220e-03],\n",
       "       [1.38080643e-02],\n",
       "       [2.15225586e-01],\n",
       "       [6.44701489e-05],\n",
       "       [3.98062976e-01],\n",
       "       [3.69023247e-01],\n",
       "       [6.70704390e-08],\n",
       "       [3.25173563e-02],\n",
       "       [2.69105447e-02],\n",
       "       [8.68263877e-03],\n",
       "       [1.29371322e-05],\n",
       "       [3.98280388e-01],\n",
       "       [1.01971858e-01],\n",
       "       [3.30511295e-01],\n",
       "       [1.84783455e-01],\n",
       "       [1.03075966e-02],\n",
       "       [2.16967093e-08]])"
      ]
     },
     "execution_count": 6,
     "metadata": {},
     "output_type": "execute_result"
    }
   ],
   "source": [
    "##correct this function, I want it to return the full vector of n probabilities\n",
    "## of which this is the cumulative product.\n",
    "model.model(theta_0)"
   ]
  },
  {
   "cell_type": "code",
   "execution_count": 7,
   "metadata": {},
   "outputs": [
    {
     "data": {
      "text/plain": [
       "array([-2.72065327])"
      ]
     },
     "execution_count": 7,
     "metadata": {},
     "output_type": "execute_result"
    }
   ],
   "source": [
    "model.lmodel_i(theta_0, 1)"
   ]
  },
  {
   "cell_type": "code",
   "execution_count": 8,
   "metadata": {},
   "outputs": [
    {
     "data": {
      "text/plain": [
       "-65378.72971823731"
      ]
     },
     "execution_count": 8,
     "metadata": {},
     "output_type": "execute_result"
    }
   ],
   "source": [
    "##Also this function is NOT what we want, we want the n-vector having the probabilities\n",
    "(model.lmodel(theta_0.flatten())).sum()"
   ]
  },
  {
   "cell_type": "code",
   "execution_count": 9,
   "metadata": {},
   "outputs": [],
   "source": [
    "mg = model.cond_theta()"
   ]
  },
  {
   "cell_type": "code",
   "execution_count": 10,
   "metadata": {},
   "outputs": [
    {
     "data": {
      "text/plain": [
       "(201, 201)"
      ]
     },
     "execution_count": 10,
     "metadata": {},
     "output_type": "execute_result"
    }
   ],
   "source": [
    "mg.cov.shape"
   ]
  },
  {
   "cell_type": "code",
   "execution_count": 11,
   "metadata": {},
   "outputs": [
    {
     "data": {
      "text/plain": [
       "(201,)"
      ]
     },
     "execution_count": 11,
     "metadata": {},
     "output_type": "execute_result"
    }
   ],
   "source": [
    "mg.mean.shape"
   ]
  },
  {
   "cell_type": "code",
   "execution_count": 12,
   "metadata": {},
   "outputs": [
    {
     "data": {
      "text/plain": [
       "-2.021478024843696"
      ]
     },
     "execution_count": 12,
     "metadata": {},
     "output_type": "execute_result"
    }
   ],
   "source": [
    "model.log_predictive_i(1)"
   ]
  },
  {
   "cell_type": "code",
   "execution_count": 13,
   "metadata": {},
   "outputs": [
    {
     "data": {
      "text/plain": [
       "-246.4215694901617"
      ]
     },
     "execution_count": 13,
     "metadata": {},
     "output_type": "execute_result"
    }
   ],
   "source": [
    "model.log_p_loo_i(1)"
   ]
  },
  {
   "cell_type": "code",
   "execution_count": 14,
   "metadata": {},
   "outputs": [
    {
     "data": {
      "text/plain": [
       "-248.4430475150054"
      ]
     },
     "execution_count": 14,
     "metadata": {},
     "output_type": "execute_result"
    }
   ],
   "source": [
    "model.log_p_full()"
   ]
  },
  {
   "cell_type": "code",
   "execution_count": 15,
   "metadata": {},
   "outputs": [],
   "source": [
    "is_estimators = models.Is_estimators(model)"
   ]
  },
  {
   "cell_type": "code",
   "execution_count": 16,
   "metadata": {},
   "outputs": [],
   "source": [
    "iterations=2000\n",
    "posterior=model.cond_theta()\n",
    "thetas_posterior=posterior.rvs(size=iterations).transpose()"
   ]
  },
  {
   "cell_type": "code",
   "execution_count": 17,
   "metadata": {},
   "outputs": [
    {
     "data": {
      "text/plain": [
       "(201, 2000)"
      ]
     },
     "execution_count": 17,
     "metadata": {},
     "output_type": "execute_result"
    }
   ],
   "source": [
    "thetas_posterior.shape"
   ]
  },
  {
   "cell_type": "code",
   "execution_count": 18,
   "metadata": {},
   "outputs": [
    {
     "data": {
      "text/plain": [
       "array([-2.23195809, -1.68156169, -1.89287966, -2.71853854, -2.15737001,\n",
       "       -2.48492411, -2.14052616, -2.47950862, -1.73226866, -1.72350257,\n",
       "       -1.76237883, -1.98122507, -2.78148174, -1.70876484, -1.90683068,\n",
       "       -3.41163467, -2.00910526, -1.88885809, -1.93220394, -1.63439599,\n",
       "       -2.04480525, -1.98586042, -1.85357461, -1.80311699, -2.04498539,\n",
       "       -1.81756973, -1.71116482, -1.7392922 , -1.70722076, -1.94298882,\n",
       "       -2.05918674, -1.75576848, -1.66252463, -1.95992832, -1.86459552,\n",
       "       -1.7880115 , -1.74136838, -1.72310321, -1.97436464, -1.88711417,\n",
       "       -1.70232465, -2.45413412, -1.88614804, -1.95251208, -1.86989424,\n",
       "       -2.15317473, -2.22242928, -1.70687162, -2.84717507, -1.64975388,\n",
       "       -1.7242049 , -2.06130806, -1.81923926, -1.8971715 , -1.78667682,\n",
       "       -1.76254145, -1.98643851, -2.14691577, -2.98920422, -2.07227144,\n",
       "       -1.80754783, -1.91831046, -1.80731859, -1.88696237, -2.14228243,\n",
       "       -1.81543094, -2.16749129, -2.00881325, -2.1815062 , -1.74071548,\n",
       "       -3.0217027 , -1.74180776, -1.79018802, -2.96910552, -3.31808867,\n",
       "       -2.06764372, -1.61549667, -1.68737124, -1.69037062, -2.59080427,\n",
       "       -2.04278198, -1.78214263, -2.59153708, -1.86461688, -1.75566136,\n",
       "       -1.79775451, -2.0743127 , -1.71554585, -1.89043392, -2.89865655,\n",
       "       -2.3486917 , -2.30764526, -2.43781103, -3.6693194 , -1.7468244 ,\n",
       "       -1.68832065, -1.78511085, -2.70729242, -1.93893231, -2.02586445])"
      ]
     },
     "execution_count": 18,
     "metadata": {},
     "output_type": "execute_result"
    }
   ],
   "source": [
    "is_estimators.posterior(thetas_posterior)"
   ]
  },
  {
   "cell_type": "code",
   "execution_count": 19,
   "metadata": {},
   "outputs": [],
   "source": [
    "#model.lmodel(thetas_posterior)"
   ]
  },
  {
   "cell_type": "code",
   "execution_count": 20,
   "metadata": {},
   "outputs": [
    {
     "data": {
      "text/plain": [
       "2000"
      ]
     },
     "execution_count": 20,
     "metadata": {},
     "output_type": "execute_result"
    }
   ],
   "source": [
    "thetas_posterior.shape[1]"
   ]
  },
  {
   "cell_type": "code",
   "execution_count": 16,
   "metadata": {},
   "outputs": [],
   "source": [
    "full = model.log_p_full()\n",
    "leave_one_outs_p = np.array([full-model.log_predictive_i(index) for index in range(n)])\n",
    "\n",
    "minimum = leave_one_outs_p.min()\n",
    "normalizer = np.sum(np.exp(leave_one_outs_p-minimum))\n",
    "weights = np.exp(leave_one_outs_p-minimum)/normalizer\n",
    "\n",
    "iterations=2000\n",
    "\n",
    "###################################################\n",
    "## Samples of Mixture\n",
    "res=np.random.multinomial(iterations,weights)\n",
    "X_js = [np.concatenate([X[0:index], X[index+1:]]) for index in range(n)]\n",
    "Y_js = [np.concatenate([y[0:index], y[index+1:]]) for index in range(n)]\n",
    "\n",
    "loos = [models.Gaussian_Model(Y_js[index], X_js[index], theta_0, sigma_0, var_model).cond_theta() for index in range(n)]\n",
    "thetas_mixture=np.zeros((X.shape[1],iterations))\n",
    "index=0\n",
    "for j in range(n):\n",
    "    if res[j] > 0:\n",
    "        if res[j] == 1:\n",
    "            thetas_mixture[::, index]=(loos[j].rvs(size=res[j]).transpose())\n",
    "            index+=res[j]\n",
    "        else:\n",
    "            thetas_mixture[::, index:index+res[j]]=(loos[j].rvs(size=res[j]).transpose())\n",
    "            index+=res[j]"
   ]
  },
  {
   "cell_type": "code",
   "execution_count": 22,
   "metadata": {},
   "outputs": [
    {
     "data": {
      "text/plain": [
       "array([-2.0396692 , -2.08204557, -2.18571067, -4.03044781, -2.20444285,\n",
       "       -2.61914126, -2.50187987, -3.38319185, -2.36825486, -1.94536894,\n",
       "       -2.46228107, -2.47827627, -4.37314889, -1.93157364, -1.95953442,\n",
       "       -3.69839827, -2.55490176, -1.98524372, -2.20830909, -2.03465383,\n",
       "       -2.1901042 , -2.0192975 , -2.16471091, -1.94381676, -2.29911505,\n",
       "       -1.79529752, -1.87625965, -2.23775527, -2.17227257, -1.86560154,\n",
       "       -2.39385503, -2.00669103, -1.81432985, -2.55390491, -2.07922477,\n",
       "       -1.83455974, -2.10168421, -2.12263995, -2.52504789, -1.99222047,\n",
       "       -1.83576607, -2.16010303, -2.34995476, -2.11933696, -2.57508891,\n",
       "       -1.86796876, -1.96160559, -2.14313161, -4.14701685, -2.05506671,\n",
       "       -1.93701132, -2.38420017, -1.76657749, -2.22168517, -1.75894176,\n",
       "       -1.92443623, -2.52316708, -1.86668187, -3.4427991 , -2.07129151,\n",
       "       -1.86964693, -1.80088066, -1.93278971, -2.10127993, -2.51583618,\n",
       "       -1.94404098, -2.68829836, -2.57133682, -2.75263748, -2.15792233,\n",
       "       -3.80574257, -1.93902095, -2.25080752, -1.66151465, -1.9148923 ,\n",
       "       -2.50613277, -2.12221745, -2.09339362, -1.98298388, -3.70827961,\n",
       "       -1.86566002, -2.02016458, -2.64991211, -2.07078154, -1.78333095,\n",
       "       -2.33399123, -2.002223  , -1.79237108, -2.23271788, -3.6612928 ,\n",
       "       -2.64252868, -1.98336525, -2.21805169, -2.10415115, -1.84579788,\n",
       "       -1.79832919, -2.0883245 , -2.577076  , -2.33971747, -2.34533289])"
      ]
     },
     "execution_count": 22,
     "metadata": {},
     "output_type": "execute_result"
    }
   ],
   "source": [
    "lppd_mixture=is_estimators.mixture(thetas_mixture)\n",
    "lppd_mixture"
   ]
  },
  {
   "cell_type": "code",
   "execution_count": 23,
   "metadata": {},
   "outputs": [],
   "source": [
    "lppd_psis = is_estimators.PSIS(thetas_posterior)"
   ]
  },
  {
   "cell_type": "code",
   "execution_count": 24,
   "metadata": {},
   "outputs": [
    {
     "data": {
      "text/plain": [
       "array([-1.90701119, -1.67855569, -1.8643465 , -2.70365239, -2.02848601,\n",
       "       -2.19096574, -2.08181723, -2.38757289, -1.73580441, -1.71813666,\n",
       "       -1.75325582, -1.98208534, -2.75803206, -1.71311157, -1.90472018,\n",
       "       -2.98432709, -2.00120123, -1.83722168, -1.9197552 , -1.63665992,\n",
       "       -1.81894736, -1.80644485, -1.82817844, -1.74808052, -2.00786954,\n",
       "       -1.81289852, -1.68992437, -1.73649602, -1.70089449, -1.86786418,\n",
       "       -2.05213335, -1.74355388, -1.6569566 , -1.93066966, -1.6609618 ,\n",
       "       -1.78966037, -1.73946871, -1.7237025 , -1.96862943, -1.84082169,\n",
       "       -1.67192282, -2.27550992, -1.8769747 , -1.98384628, -1.82578649,\n",
       "       -1.77873668, -2.1796237 , -1.69949925, -2.81765816, -1.65206877,\n",
       "       -1.70119884, -1.92996655, -1.78834599, -1.88712097, -1.76075562,\n",
       "       -1.75227879, -1.92692806, -1.93348831, -2.92023602, -2.02882591,\n",
       "       -1.80408892, -1.89258961, -1.7771687 , -1.8111391 , -2.10399563,\n",
       "       -1.74446204, -2.04168908, -1.97603416, -2.17672209, -1.7288407 ,\n",
       "       -2.93796798, -1.73616187, -1.75821874, -2.10953115, -1.75986724,\n",
       "       -1.99755871, -1.6072667 , -1.68019122, -1.68717404, -2.48201349,\n",
       "       -1.93834012, -1.76723574, -2.40972567, -1.79910103, -1.74929491,\n",
       "       -1.78884809, -1.99912295, -1.69869672, -1.87116374, -2.81989972,\n",
       "       -2.18755588, -1.97686558, -2.24052688, -2.04127888, -1.71920536,\n",
       "       -1.68249486, -1.75150944, -2.4171228 , -1.93626023, -2.03804115])"
      ]
     },
     "execution_count": 24,
     "metadata": {},
     "output_type": "execute_result"
    }
   ],
   "source": [
    "lppd_psis"
   ]
  },
  {
   "cell_type": "code",
   "execution_count": 25,
   "metadata": {},
   "outputs": [
    {
     "data": {
      "text/plain": [
       "array([-2.35212071, -2.02147802, -2.03563021, -3.94595609, -2.34132042,\n",
       "       -2.64262238, -2.17293992, -3.19996613, -2.07754199, -1.87576466,\n",
       "       -2.30234208, -2.48136445, -4.24489225, -1.98225632, -2.11063821,\n",
       "       -3.69734057, -2.56899718, -2.10189199, -2.30585718, -1.99134817,\n",
       "       -2.08763252, -2.08327416, -2.07643942, -2.08601788, -2.34306139,\n",
       "       -1.94631345, -1.89134745, -2.00899459, -2.1246627 , -1.99543578,\n",
       "       -2.42035617, -2.06832394, -1.87621309, -2.28096195, -1.90356391,\n",
       "       -2.02234725, -2.06245211, -2.14989396, -2.51597982, -2.18959298,\n",
       "       -1.94474535, -2.19600951, -2.5568874 , -1.93905987, -2.33173459,\n",
       "       -2.03199747, -2.02162754, -1.92924132, -4.0018446 , -1.96831905,\n",
       "       -2.06030591, -2.34994778, -1.90467132, -2.28992735, -2.01692048,\n",
       "       -1.97313765, -2.54706591, -2.08049224, -3.45942897, -2.4326865 ,\n",
       "       -1.8521913 , -2.16548314, -1.89939283, -2.25949321, -2.61577499,\n",
       "       -1.93934849, -2.77141308, -2.43735524, -2.94154984, -2.07192315,\n",
       "       -3.72996484, -2.01282361, -1.91980675, -1.93289609, -1.83446592,\n",
       "       -2.5113924 , -1.79044914, -2.10466951, -1.96578312, -3.63498661,\n",
       "       -1.92814467, -1.98942306, -2.72835385, -2.02825945, -1.8346217 ,\n",
       "       -2.16997096, -2.19396715, -1.86381944, -2.2329117 , -3.6121576 ,\n",
       "       -2.55126736, -1.92647999, -2.38556982, -2.44121877, -1.84315303,\n",
       "       -1.86967416, -1.9964834 , -2.40628962, -2.25035372, -2.39358597])"
      ]
     },
     "execution_count": 25,
     "metadata": {},
     "output_type": "execute_result"
    }
   ],
   "source": [
    "correct_values = model.correct_values()\n",
    "correct_values"
   ]
  },
  {
   "cell_type": "code",
   "execution_count": 52,
   "metadata": {},
   "outputs": [
    {
     "data": {
      "text/plain": [
       "(201, 2000)"
      ]
     },
     "execution_count": 52,
     "metadata": {},
     "output_type": "execute_result"
    }
   ],
   "source": [
    "thetas_mixture.shape"
   ]
  },
  {
   "cell_type": "code",
   "execution_count": 4,
   "metadata": {},
   "outputs": [],
   "source": [
    "from scipy.stats import norm\n",
    "import numpy as np"
   ]
  },
  {
   "cell_type": "code",
   "execution_count": 24,
   "metadata": {},
   "outputs": [
    {
     "name": "stderr",
     "output_type": "stream",
     "text": [
      "C:\\Users\\lucas\\anaconda3\\envs\\stan_env2\\lib\\site-packages\\ipykernel_launcher.py:6: RuntimeWarning: overflow encountered in power\n",
      "  \n"
     ]
    }
   ],
   "source": [
    "variances=[1,10,100,1000, 10000, 100000, 1000000]\n",
    "values=[]\n",
    "n_samples=int(1e6)\n",
    "for var in variances:\n",
    "    samples = norm(loc=0, scale=np.sqrt(var)).rvs(n_samples)\n",
    "    values.append(np.mean((1+np.e**(-samples))**(-1))) "
   ]
  },
  {
   "cell_type": "code",
   "execution_count": 25,
   "metadata": {},
   "outputs": [
    {
     "data": {
      "text/plain": [
       "[0.5002542576933511,\n",
       " 0.5003419767731351,\n",
       " 0.4993766327688805,\n",
       " 0.4991192396148893,\n",
       " 0.5005495592610749,\n",
       " 0.5000147814464694,\n",
       " 0.500870260934834]"
      ]
     },
     "execution_count": 25,
     "metadata": {},
     "output_type": "execute_result"
    }
   ],
   "source": [
    "values"
   ]
  },
  {
   "cell_type": "code",
   "execution_count": null,
   "metadata": {},
   "outputs": [],
   "source": []
  }
 ],
 "metadata": {
  "kernelspec": {
   "display_name": "Python 3",
   "language": "python",
   "name": "python3"
  },
  "language_info": {
   "codemirror_mode": {
    "name": "ipython",
    "version": 3
   },
   "file_extension": ".py",
   "mimetype": "text/x-python",
   "name": "python",
   "nbconvert_exporter": "python",
   "pygments_lexer": "ipython3",
   "version": "3.8.5"
  }
 },
 "nbformat": 4,
 "nbformat_minor": 5
}
