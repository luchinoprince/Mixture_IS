{
 "cells": [
  {
   "cell_type": "markdown",
   "metadata": {},
   "source": [
    "We will considered the Bayesian regression model with known variance and gaussian isotropic prior that is studied in the paper. In this code one can generate the three different estimators for a given number of observations and a given number of covariates. The model, being conjugate, allows us to also calculate the correct values for the _leave-one-out_ predictive densities. The estimators, and also the code for the functions _predictive_i, probs_i, probs_ might seem cumbersome, but are written in such a form to allow one to go to high values of values of _p_ without encountering numerical overflows. "
   ]
  },
  {
   "cell_type": "code",
   "execution_count": 1,
   "metadata": {},
   "outputs": [],
   "source": [
    "import pandas as pd\n",
    "import numpy as np\n",
    "import matplotlib.pyplot as plt\n",
    "from scipy.special import logsumexp\n",
    "from scipy.stats import multivariate_normal\n",
    "import sys\n",
    "sys.path.insert(1, \"./PSIS/py\")\n",
    "#import gaussian_model as gm\n",
    "from models import Gaussian_Model as gm\n",
    "import models\n",
    "import psis"
   ]
  },
  {
   "cell_type": "markdown",
   "metadata": {},
   "source": [
    "## Let us simulate the data"
   ]
  },
  {
   "cell_type": "code",
   "execution_count": 2,
   "metadata": {},
   "outputs": [],
   "source": [
    "n = 100; p = 20;\n",
    "c =10; var_model=1;\n",
    "\n",
    "sigma_0= c/p * np.identity(p+1)\n",
    "theta_0=np.zeros((p+1,1))\n",
    "#model = gm.Model(theta_0, sigma_0, var_model)\n",
    "x1=np.ones((n,1))\n",
    "x2=np.random.randn(n,p)\n",
    "X=np.concatenate([x1,x2],axis=1)\n",
    "theta=multivariate_normal(mean=theta_0.reshape(p+1),cov=sigma_0).rvs()\n",
    "y=multivariate_normal(mean=np.dot(X,theta), cov=var_model*np.identity(n)).rvs()\n",
    "model = gm(y, X, theta_0, sigma_0, var_model)"
   ]
  },
  {
   "cell_type": "markdown",
   "metadata": {},
   "source": [
    "## Let us generate the __iid__ samples from the posterior and the mixture"
   ]
  },
  {
   "cell_type": "code",
   "execution_count": 26,
   "metadata": {},
   "outputs": [],
   "source": [
    "full = model.log_p_full()\n",
    "leave_one_outs_p = np.array([full-model.log_predictive_i(index) for index in range(n)])\n",
    "\n",
    "minimum = leave_one_outs_p.min()\n",
    "normalizer = np.sum(np.exp(leave_one_outs_p-minimum))\n",
    "weights = np.exp(leave_one_outs_p-minimum)/normalizer\n",
    "\n",
    "iterations=2000\n",
    "\n",
    "###################################################\n",
    "## Samples of Mixture\n",
    "res=np.random.multinomial(iterations,weights)\n",
    "X_js = [np.concatenate([X[0:index], X[index+1:]]) for index in range(n)]\n",
    "Y_js = [np.concatenate([y[0:index], y[index+1:]]) for index in range(n)]\n",
    "\n",
    "loos = [models.Gaussian_Model(Y_js[index], X_js[index], theta_0, sigma_0, var_model).cond_theta() for index in range(n)]\n",
    "thetas_mixture=np.zeros((X.shape[1],iterations))\n",
    "index=0\n",
    "for j in range(n):\n",
    "    if res[j] > 0:\n",
    "        if res[j] == 1:\n",
    "            thetas_mixture[::, index]=(loos[j].rvs(size=res[j]).transpose())\n",
    "            index+=res[j]\n",
    "        else:\n",
    "            thetas_mixture[::, index:index+res[j]]=(loos[j].rvs(size=res[j]).transpose())\n",
    "            index+=res[j]\n",
    "            \n",
    "posterior=model.cond_theta()\n",
    "thetas_posterior=posterior.rvs(size=iterations).transpose()"
   ]
  },
  {
   "cell_type": "markdown",
   "metadata": {},
   "source": [
    "## Let us create the estimators"
   ]
  },
  {
   "cell_type": "code",
   "execution_count": 7,
   "metadata": {},
   "outputs": [],
   "source": [
    "is_estimators = models.Is_estimators(model)\n",
    "\n",
    "\n",
    "correct_values = np.array([model.log_predictive_i(k) for k in range(n)])\n",
    "lppd_posterior = is_estimators.posterior(thetas_posterior)\n",
    "lppd_mixture = is_estimators.mixture(thetas_mixture)\n",
    "lppd_psis = is_estimators.PSIS(thetas_posterior)"
   ]
  },
  {
   "cell_type": "markdown",
   "metadata": {},
   "source": [
    "## Let us now plot to assess the accuracy of the estimated values."
   ]
  },
  {
   "cell_type": "code",
   "execution_count": 17,
   "metadata": {},
   "outputs": [
    {
     "data": {
      "text/plain": [
       "<matplotlib.legend.Legend at 0x2664f4c91c8>"
      ]
     },
     "execution_count": 17,
     "metadata": {},
     "output_type": "execute_result"
    },
    {
     "data": {
      "image/png": "[encoded data removed]",
      "text/plain": [
       "<Figure size 720x504 with 1 Axes>"
      ]
     },
     "metadata": {
      "needs_background": "light"
     },
     "output_type": "display_data"
    }
   ],
   "source": [
    "fig, ax = plt.subplots(figsize=(10,7))\n",
    "ax.plot((correct_values-lppd_mixture)**2, linestyle=\"\", marker=\"^\", markersize=5, label=\"Squared errors mixture\")\n",
    "ax.plot((correct_values-lppd_posterior)**2, linestyle=\"\", marker=\"^\", markersize=5, label=\"Squared errors posterior\")\n",
    "ax.plot((correct_values-lppd_psis)**2, linestyle=\"\", marker=\"^\", markersize=5, label=\"Squared errors PSIS\")\n",
    "ax.legend()"
   ]
  },
  {
   "cell_type": "code",
   "execution_count": null,
   "metadata": {},
   "outputs": [],
   "source": []
  }
 ],
 "metadata": {
  "kernelspec": {
   "display_name": "Python 3",
   "language": "python",
   "name": "python3"
  },
  "language_info": {
   "codemirror_mode": {
    "name": "ipython",
    "version": 3
   },
   "file_extension": ".py",
   "mimetype": "text/x-python",
   "name": "python",
   "nbconvert_exporter": "python",
   "pygments_lexer": "ipython3",
   "version": "3.7.9"
  }
 },
 "nbformat": 4,
 "nbformat_minor": 4
}
